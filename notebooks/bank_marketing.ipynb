# Bank Marketing
### Johennie Helton
#### June, 2024

This project is the Practical assignment for module 17